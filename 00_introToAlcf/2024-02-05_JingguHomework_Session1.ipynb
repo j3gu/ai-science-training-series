{
 "cells": [
  {
   "cell_type": "markdown",
   "id": "9116972e-22ab-4e63-b1df-0b8e389447d8",
   "metadata": {},
   "source": [
    "## Here is my first homework."
   ]
  },
  {
   "cell_type": "code",
   "execution_count": 2,
   "id": "6235ca4a-8187-4074-ab7c-b2c93dfbab11",
   "metadata": {},
   "outputs": [
    {
     "name": "stdout",
     "output_type": "stream",
     "text": [
      "testing...\n"
     ]
    }
   ],
   "source": [
    "import os,sys\n",
    "print('testing...')"
   ]
  },
  {
   "cell_type": "code",
   "execution_count": null,
   "id": "ab2a0521-48f0-47ec-8b2a-56855ae0bf37",
   "metadata": {},
   "outputs": [],
   "source": []
  }
 ],
 "metadata": {
  "kernelspec": {
   "display_name": "Python 3 (ipykernel)",
   "language": "python",
   "name": "python3"
  },
  "language_info": {
   "codemirror_mode": {
    "name": "ipython",
    "version": 3
   },
   "file_extension": ".py",
   "mimetype": "text/x-python",
   "name": "python",
   "nbconvert_exporter": "python",
   "pygments_lexer": "ipython3",
   "version": "3.9.15"
  }
 },
 "nbformat": 4,
 "nbformat_minor": 5
}
